{
 "cells": [
  {
   "cell_type": "markdown",
   "metadata": {},
   "source": [
    "# Data Preprocessing"
   ]
  },
  {
   "cell_type": "markdown",
   "metadata": {},
   "source": [
    "Importing ImageDataGenerator library"
   ]
  },
  {
   "cell_type": "code",
   "execution_count": 8,
   "metadata": {},
   "outputs": [],
   "source": [
    "from keras.preprocessing.image import ImageDataGenerator"
   ]
  },
  {
   "cell_type": "markdown",
   "metadata": {},
   "source": [
    "Configuring ImageDataGenerator Class"
   ]
  },
  {
   "cell_type": "code",
   "execution_count": 9,
   "metadata": {},
   "outputs": [],
   "source": [
    "train_datagen = ImageDataGenerator(rescale = 1./255,shear_range = 0.2,zoom_range = 0.2,horizontal_flip = True)\n",
    "test_datagen =ImageDataGenerator(rescale = 1)"
   ]
  },
  {
   "cell_type": "markdown",
   "metadata": {},
   "source": [
    "Applying ImageDataGenerator Functionality To Trainset And Testset"
   ]
  },
  {
   "cell_type": "code",
   "execution_count": 10,
   "metadata": {},
   "outputs": [
    {
     "name": "stdout",
     "output_type": "stream",
     "text": [
      "Found 156 images belonging to 2 classes.\n",
      "Found 40 images belonging to 2 classes.\n"
     ]
    }
   ],
   "source": [
    "x_train = train_datagen.flow_from_directory(r'C:\\Users\\KOKKONDA SRAVYA\\Documents\\dataset\\dataset\\train_set',target_size = (64,64),batch_size = 32, class_mode = 'binary')\n",
    "x_test =  test_datagen.flow_from_directory(r'C:\\Users\\KOKKONDA SRAVYA\\Documents\\dataset\\dataset\\test_set',target_size = (64,64),batch_size = 32, class_mode = 'binary')"
   ]
  },
  {
   "cell_type": "markdown",
   "metadata": {},
   "source": [
    "# Model Building"
   ]
  },
  {
   "cell_type": "markdown",
   "metadata": {},
   "source": [
    "Importing The Model Building Libraries"
   ]
  },
  {
   "cell_type": "code",
   "execution_count": 11,
   "metadata": {},
   "outputs": [],
   "source": [
    "from keras.models import Sequential\n",
    "from keras.layers import Dense\n",
    "from keras.layers import Convolution2D\n",
    "from keras.layers import MaxPooling2D\n",
    "from keras.layers import Flatten"
   ]
  },
  {
   "cell_type": "markdown",
   "metadata": {},
   "source": [
    "Initializing The Model"
   ]
  },
  {
   "cell_type": "code",
   "execution_count": 12,
   "metadata": {},
   "outputs": [],
   "source": [
    "model = Sequential()"
   ]
  },
  {
   "cell_type": "markdown",
   "metadata": {},
   "source": [
    "Adding CNN Layers"
   ]
  },
  {
   "cell_type": "code",
   "execution_count": 13,
   "metadata": {},
   "outputs": [],
   "source": [
    "#Adding the Convolution Layer\n",
    "model.add(Convolution2D(32,(3,3),input_shape = (64,64,3),activation = 'relu'))"
   ]
  },
  {
   "cell_type": "code",
   "execution_count": 14,
   "metadata": {},
   "outputs": [],
   "source": [
    "#Adding MaxPooling Layer\n",
    "model.add(MaxPooling2D(pool_size = (2,2)))"
   ]
  },
  {
   "cell_type": "code",
   "execution_count": 15,
   "metadata": {},
   "outputs": [],
   "source": [
    "#Adding Flattening Layer\n",
    "model.add(Flatten())"
   ]
  },
  {
   "cell_type": "code",
   "execution_count": 16,
   "metadata": {},
   "outputs": [
    {
     "name": "stderr",
     "output_type": "stream",
     "text": [
      "C:\\Users\\KOKKONDA SRAVYA\\New folder\\envs\\tensorflow\\lib\\site-packages\\ipykernel_launcher.py:2: UserWarning: Update your `Dense` call to the Keras 2 API: `Dense(activation=\"relu\", units=128, kernel_initializer=\"uniform\")`\n",
      "  \n"
     ]
    }
   ],
   "source": [
    "#Adding Hidden Layer\n",
    "model.add(Dense(output_dim = 128 ,init = 'uniform',activation = 'relu'))"
   ]
  },
  {
   "cell_type": "code",
   "execution_count": 17,
   "metadata": {},
   "outputs": [
    {
     "name": "stderr",
     "output_type": "stream",
     "text": [
      "C:\\Users\\KOKKONDA SRAVYA\\New folder\\envs\\tensorflow\\lib\\site-packages\\ipykernel_launcher.py:2: UserWarning: Update your `Dense` call to the Keras 2 API: `Dense(activation=\"sigmoid\", units=1, kernel_initializer=\"uniform\")`\n",
      "  \n"
     ]
    }
   ],
   "source": [
    "#Adding Output Layer \n",
    "model.add(Dense(output_dim = 1,activation = 'sigmoid',init ='uniform'))"
   ]
  },
  {
   "cell_type": "code",
   "execution_count": 18,
   "metadata": {},
   "outputs": [
    {
     "name": "stdout",
     "output_type": "stream",
     "text": [
      "{'no': 0, 'yes': 1}\n"
     ]
    }
   ],
   "source": [
    "print(x_train.class_indices)"
   ]
  },
  {
   "cell_type": "markdown",
   "metadata": {},
   "source": [
    "Configuring The Learning Process"
   ]
  },
  {
   "cell_type": "code",
   "execution_count": 19,
   "metadata": {},
   "outputs": [],
   "source": [
    "#Compiling\n",
    "model.compile(loss = 'binary_crossentropy',optimizer = \"adam\",metrics = [\"accuracy\"])"
   ]
  },
  {
   "cell_type": "markdown",
   "metadata": {},
   "source": [
    "Training and Testing the Model"
   ]
  },
  {
   "cell_type": "code",
   "execution_count": 69,
   "metadata": {},
   "outputs": [
    {
     "name": "stdout",
     "output_type": "stream",
     "text": [
      "Epoch 1/20\n",
      "2/2 [==============================] - 1s 297ms/step - loss: 0.6331 - accuracy: 0.6562 - val_loss: 45.4298 - val_accuracy: 0.8750\n",
      "Epoch 2/20\n",
      "2/2 [==============================] - 1s 266ms/step - loss: 0.5073 - accuracy: 0.7188 - val_loss: 145.1302 - val_accuracy: 0.6250\n",
      "Epoch 3/20\n",
      "2/2 [==============================] - 1s 319ms/step - loss: 0.6473 - accuracy: 0.6333 - val_loss: 64.0706 - val_accuracy: 0.7188\n",
      "Epoch 4/20\n",
      "2/2 [==============================] - 1s 272ms/step - loss: 0.4394 - accuracy: 0.8281 - val_loss: 34.0632 - val_accuracy: 0.8750\n",
      "Epoch 5/20\n",
      "2/2 [==============================] - 0s 247ms/step - loss: 0.4984 - accuracy: 0.7833 - val_loss: 76.6805 - val_accuracy: 0.7812\n",
      "Epoch 6/20\n",
      "2/2 [==============================] - 1s 282ms/step - loss: 0.5317 - accuracy: 0.7833 - val_loss: 9.4272 - val_accuracy: 0.8750\n",
      "Epoch 7/20\n",
      "2/2 [==============================] - 0s 248ms/step - loss: 0.5588 - accuracy: 0.6875 - val_loss: 33.7816 - val_accuracy: 0.7812\n",
      "Epoch 8/20\n",
      "2/2 [==============================] - 1s 266ms/step - loss: 0.5506 - accuracy: 0.7344 - val_loss: 138.9126 - val_accuracy: 0.6250\n",
      "Epoch 9/20\n",
      "2/2 [==============================] - 1s 276ms/step - loss: 0.4895 - accuracy: 0.8125 - val_loss: 54.3379 - val_accuracy: 0.7812\n",
      "Epoch 10/20\n",
      "2/2 [==============================] - 0s 245ms/step - loss: 0.5284 - accuracy: 0.7667 - val_loss: 58.4120 - val_accuracy: 0.8750\n",
      "Epoch 11/20\n",
      "2/2 [==============================] - 1s 305ms/step - loss: 0.4470 - accuracy: 0.8000 - val_loss: 46.5720 - val_accuracy: 0.7812\n",
      "Epoch 12/20\n",
      "2/2 [==============================] - 1s 305ms/step - loss: 0.4229 - accuracy: 0.8594 - val_loss: 63.2369 - val_accuracy: 0.7500\n",
      "Epoch 13/20\n",
      "2/2 [==============================] - 1s 287ms/step - loss: 0.5805 - accuracy: 0.6167 - val_loss: 61.4752 - val_accuracy: 0.8750\n",
      "Epoch 14/20\n",
      "2/2 [==============================] - 1s 323ms/step - loss: 0.5729 - accuracy: 0.7188 - val_loss: 24.2455 - val_accuracy: 0.7500\n",
      "Epoch 15/20\n",
      "2/2 [==============================] - 1s 372ms/step - loss: 0.4874 - accuracy: 0.7500 - val_loss: 48.5382 - val_accuracy: 0.8125\n",
      "Epoch 16/20\n",
      "2/2 [==============================] - 1s 286ms/step - loss: 0.4780 - accuracy: 0.7656 - val_loss: 89.7427 - val_accuracy: 0.7500\n",
      "Epoch 17/20\n",
      "2/2 [==============================] - 1s 307ms/step - loss: 0.5474 - accuracy: 0.6562 - val_loss: 45.4572 - val_accuracy: 0.7188\n",
      "Epoch 18/20\n",
      "2/2 [==============================] - 1s 275ms/step - loss: 0.4718 - accuracy: 0.8000 - val_loss: 96.9273 - val_accuracy: 0.8750\n",
      "Epoch 19/20\n",
      "2/2 [==============================] - 1s 285ms/step - loss: 0.5354 - accuracy: 0.8500 - val_loss: 65.9880 - val_accuracy: 0.7188\n",
      "Epoch 20/20\n",
      "2/2 [==============================] - 1s 340ms/step - loss: 0.3562 - accuracy: 0.8438 - val_loss: 14.8481 - val_accuracy: 0.8750\n"
     ]
    },
    {
     "data": {
      "text/plain": [
       "<keras.callbacks.callbacks.History at 0x1afb1b29cc8>"
      ]
     },
     "execution_count": 69,
     "metadata": {},
     "output_type": "execute_result"
    }
   ],
   "source": [
    "model.fit_generator(x_train, steps_per_epoch = 2 ,epochs = 20,validation_data = x_test,validation_steps = 1)"
   ]
  },
  {
   "cell_type": "markdown",
   "metadata": {},
   "source": [
    "Saving the Model"
   ]
  },
  {
   "cell_type": "code",
   "execution_count": 20,
   "metadata": {},
   "outputs": [],
   "source": [
    "model.save(\"braintumor.h5\")"
   ]
  }
 ],
 "metadata": {
  "kernelspec": {
   "display_name": "Python 3",
   "language": "python",
   "name": "python3"
  },
  "language_info": {
   "codemirror_mode": {
    "name": "ipython",
    "version": 3
   },
   "file_extension": ".py",
   "mimetype": "text/x-python",
   "name": "python",
   "nbconvert_exporter": "python",
   "pygments_lexer": "ipython3",
   "version": "3.7.7"
  }
 },
 "nbformat": 4,
 "nbformat_minor": 4
}
