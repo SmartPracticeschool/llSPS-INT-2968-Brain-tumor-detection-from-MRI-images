{
 "cells": [
  {
   "cell_type": "markdown",
   "metadata": {},
   "source": [
    "# Data Preprocessing"
   ]
  },
  {
   "cell_type": "markdown",
   "metadata": {},
   "source": [
    "Importing ImageDataGenerator library"
   ]
  },
  {
   "cell_type": "code",
   "execution_count": 1,
   "metadata": {},
   "outputs": [
    {
     "name": "stderr",
     "output_type": "stream",
     "text": [
      "Using TensorFlow backend.\n"
     ]
    }
   ],
   "source": [
    "from keras.preprocessing.image import ImageDataGenerator"
   ]
  },
  {
   "cell_type": "markdown",
   "metadata": {},
   "source": [
    "Configuring ImageDataGenerator Class"
   ]
  },
  {
   "cell_type": "code",
   "execution_count": 2,
   "metadata": {},
   "outputs": [],
   "source": [
    "train_datagen = ImageDataGenerator(rescale = 1./255,shear_range = 0.2,zoom_range = 0.2,horizontal_flip = True)\n",
    "test_datagen =ImageDataGenerator(rescale = 1)"
   ]
  },
  {
   "cell_type": "markdown",
   "metadata": {},
   "source": [
    "Applying ImageDataGenerator Functionality To Trainset And Testset"
   ]
  },
  {
   "cell_type": "code",
   "execution_count": 3,
   "metadata": {},
   "outputs": [
    {
     "name": "stdout",
     "output_type": "stream",
     "text": [
      "Found 156 images belonging to 2 classes.\n",
      "Found 40 images belonging to 2 classes.\n"
     ]
    }
   ],
   "source": [
    "x_train = train_datagen.flow_from_directory(r'C:\\Users\\KOKKONDA SRAVYA\\Documents\\dataset\\dataset\\train_set',target_size = (64,64),batch_size = 32, class_mode = 'binary')\n",
    "x_test =  test_datagen.flow_from_directory(r'C:\\Users\\KOKKONDA SRAVYA\\Documents\\dataset\\dataset\\test_set',target_size = (64,64),batch_size = 32, class_mode = 'binary')"
   ]
  },
  {
   "cell_type": "markdown",
   "metadata": {},
   "source": [
    "# Model Building"
   ]
  },
  {
   "cell_type": "markdown",
   "metadata": {},
   "source": [
    "Importing The Model Building Libraries"
   ]
  },
  {
   "cell_type": "code",
   "execution_count": 4,
   "metadata": {},
   "outputs": [],
   "source": [
    "from keras.models import Sequential\n",
    "from keras.layers import Dense\n",
    "from keras.layers import Convolution2D\n",
    "from keras.layers import MaxPooling2D\n",
    "from keras.layers import Flatten"
   ]
  },
  {
   "cell_type": "markdown",
   "metadata": {},
   "source": [
    "Initializing The Model"
   ]
  },
  {
   "cell_type": "code",
   "execution_count": 5,
   "metadata": {},
   "outputs": [],
   "source": [
    "model = Sequential()"
   ]
  },
  {
   "cell_type": "markdown",
   "metadata": {},
   "source": [
    "Adding CNN Layers"
   ]
  },
  {
   "cell_type": "code",
   "execution_count": 6,
   "metadata": {},
   "outputs": [],
   "source": [
    "#Adding the Convolution Layer\n",
    "model.add(Convolution2D(32,(3,3),input_shape = (64,64,3),activation = 'relu'))"
   ]
  },
  {
   "cell_type": "code",
   "execution_count": 7,
   "metadata": {},
   "outputs": [],
   "source": [
    "#Adding MaxPooling Layer\n",
    "model.add(MaxPooling2D(pool_size = (2,2)))"
   ]
  },
  {
   "cell_type": "code",
   "execution_count": 8,
   "metadata": {},
   "outputs": [],
   "source": [
    "#Adding Flattening Layer\n",
    "model.add(Flatten())"
   ]
  },
  {
   "cell_type": "code",
   "execution_count": 9,
   "metadata": {},
   "outputs": [
    {
     "name": "stderr",
     "output_type": "stream",
     "text": [
      "C:\\Users\\KOKKONDA SRAVYA\\New folder\\envs\\tensorflow\\lib\\site-packages\\ipykernel_launcher.py:2: UserWarning: Update your `Dense` call to the Keras 2 API: `Dense(activation=\"relu\", units=128, kernel_initializer=\"uniform\")`\n",
      "  \n"
     ]
    }
   ],
   "source": [
    "#Adding Hidden Layer\n",
    "model.add(Dense(output_dim = 128 ,init = 'uniform',activation = 'relu'))"
   ]
  },
  {
   "cell_type": "code",
   "execution_count": 10,
   "metadata": {},
   "outputs": [
    {
     "name": "stderr",
     "output_type": "stream",
     "text": [
      "C:\\Users\\KOKKONDA SRAVYA\\New folder\\envs\\tensorflow\\lib\\site-packages\\ipykernel_launcher.py:2: UserWarning: Update your `Dense` call to the Keras 2 API: `Dense(activation=\"sigmoid\", units=1, kernel_initializer=\"uniform\")`\n",
      "  \n"
     ]
    }
   ],
   "source": [
    "#Adding Output Layer \n",
    "model.add(Dense(output_dim = 1,activation = 'sigmoid',init ='uniform'))"
   ]
  },
  {
   "cell_type": "code",
   "execution_count": 11,
   "metadata": {},
   "outputs": [
    {
     "name": "stdout",
     "output_type": "stream",
     "text": [
      "{'no': 0, 'yes': 1}\n"
     ]
    }
   ],
   "source": [
    "print(x_train.class_indices)"
   ]
  },
  {
   "cell_type": "markdown",
   "metadata": {},
   "source": [
    "Configuring The Learning Process"
   ]
  },
  {
   "cell_type": "code",
   "execution_count": 12,
   "metadata": {},
   "outputs": [],
   "source": [
    "#Compiling\n",
    "model.compile(loss = 'binary_crossentropy',optimizer = \"adam\",metrics = [\"accuracy\"])"
   ]
  },
  {
   "cell_type": "markdown",
   "metadata": {},
   "source": [
    "Training and Testing the Model"
   ]
  },
  {
   "cell_type": "code",
   "execution_count": 13,
   "metadata": {},
   "outputs": [
    {
     "name": "stdout",
     "output_type": "stream",
     "text": [
      "Epoch 1/20\n",
      "2/2 [==============================] - 5s 2s/step - loss: 1.0949 - accuracy: 0.6094 - val_loss: 120.8303 - val_accuracy: 0.5625\n",
      "Epoch 2/20\n",
      "2/2 [==============================] - 2s 755ms/step - loss: 0.7758 - accuracy: 0.5167 - val_loss: 41.8784 - val_accuracy: 0.7500\n",
      "Epoch 3/20\n",
      "2/2 [==============================] - 2s 1s/step - loss: 0.6908 - accuracy: 0.6250 - val_loss: 137.8835 - val_accuracy: 0.5312\n",
      "Epoch 4/20\n",
      "2/2 [==============================] - 1s 263ms/step - loss: 0.8309 - accuracy: 0.4688 - val_loss: 61.6798 - val_accuracy: 0.3750\n",
      "Epoch 5/20\n",
      "2/2 [==============================] - 1s 278ms/step - loss: 0.6992 - accuracy: 0.5167 - val_loss: 22.9263 - val_accuracy: 0.7188\n",
      "Epoch 6/20\n",
      "2/2 [==============================] - 1s 260ms/step - loss: 0.6547 - accuracy: 0.6500 - val_loss: 15.9863 - val_accuracy: 0.7500\n",
      "Epoch 7/20\n",
      "2/2 [==============================] - 1s 355ms/step - loss: 0.6460 - accuracy: 0.6406 - val_loss: 26.2845 - val_accuracy: 0.7812\n",
      "Epoch 8/20\n",
      "2/2 [==============================] - 1s 408ms/step - loss: 0.6164 - accuracy: 0.6875 - val_loss: 81.1151 - val_accuracy: 0.3750\n",
      "Epoch 9/20\n",
      "2/2 [==============================] - 1s 277ms/step - loss: 0.6695 - accuracy: 0.6562 - val_loss: 38.1596 - val_accuracy: 0.6562\n",
      "Epoch 10/20\n",
      "2/2 [==============================] - 0s 232ms/step - loss: 0.6272 - accuracy: 0.7333 - val_loss: 4.1913 - val_accuracy: 0.8750\n",
      "Epoch 11/20\n",
      "2/2 [==============================] - 1s 340ms/step - loss: 0.6812 - accuracy: 0.6000 - val_loss: 25.7957 - val_accuracy: 0.7812\n",
      "Epoch 12/20\n",
      "2/2 [==============================] - 1s 351ms/step - loss: 0.6057 - accuracy: 0.7500 - val_loss: 10.3774 - val_accuracy: 0.8750\n",
      "Epoch 13/20\n",
      "2/2 [==============================] - 1s 302ms/step - loss: 0.6356 - accuracy: 0.6500 - val_loss: 25.1012 - val_accuracy: 0.8438\n",
      "Epoch 14/20\n",
      "2/2 [==============================] - 1s 288ms/step - loss: 0.6118 - accuracy: 0.6719 - val_loss: 36.1766 - val_accuracy: 0.7500\n",
      "Epoch 15/20\n",
      "2/2 [==============================] - 1s 279ms/step - loss: 0.5650 - accuracy: 0.7812 - val_loss: 36.7744 - val_accuracy: 0.8125\n",
      "Epoch 16/20\n",
      "2/2 [==============================] - 1s 294ms/step - loss: 0.5621 - accuracy: 0.7344 - val_loss: 6.6467e-11 - val_accuracy: 1.0000\n",
      "Epoch 17/20\n",
      "2/2 [==============================] - 1s 293ms/step - loss: 0.5898 - accuracy: 0.6719 - val_loss: 43.9425 - val_accuracy: 0.7188\n",
      "Epoch 18/20\n",
      "2/2 [==============================] - 1s 260ms/step - loss: 0.6625 - accuracy: 0.6833 - val_loss: 4.9380 - val_accuracy: 0.8750\n",
      "Epoch 19/20\n",
      "2/2 [==============================] - 1s 301ms/step - loss: 0.5688 - accuracy: 0.7344 - val_loss: 53.5415 - val_accuracy: 0.6562\n",
      "Epoch 20/20\n",
      "2/2 [==============================] - 1s 266ms/step - loss: 0.5706 - accuracy: 0.7333 - val_loss: 12.2924 - val_accuracy: 0.8750\n"
     ]
    },
    {
     "data": {
      "text/plain": [
       "<keras.callbacks.callbacks.History at 0x19b87fb4e88>"
      ]
     },
     "execution_count": 13,
     "metadata": {},
     "output_type": "execute_result"
    }
   ],
   "source": [
    "model.fit_generator(x_train, steps_per_epoch = 2 ,epochs = 20,validation_data = x_test,validation_steps = 1)"
   ]
  },
  {
   "cell_type": "markdown",
   "metadata": {},
   "source": [
    "Saving the Model"
   ]
  },
  {
   "cell_type": "code",
   "execution_count": 14,
   "metadata": {},
   "outputs": [],
   "source": [
    "model.save(\"braintumor.h5\")"
   ]
  },
  {
   "cell_type": "code",
   "execution_count": null,
   "metadata": {},
   "outputs": [],
   "source": []
  }
 ],
 "metadata": {
  "kernelspec": {
   "display_name": "Python 3",
   "language": "python",
   "name": "python3"
  },
  "language_info": {
   "codemirror_mode": {
    "name": "ipython",
    "version": 3
   },
   "file_extension": ".py",
   "mimetype": "text/x-python",
   "name": "python",
   "nbconvert_exporter": "python",
   "pygments_lexer": "ipython3",
   "version": "3.7.6"
  }
 },
 "nbformat": 4,
 "nbformat_minor": 4
}
