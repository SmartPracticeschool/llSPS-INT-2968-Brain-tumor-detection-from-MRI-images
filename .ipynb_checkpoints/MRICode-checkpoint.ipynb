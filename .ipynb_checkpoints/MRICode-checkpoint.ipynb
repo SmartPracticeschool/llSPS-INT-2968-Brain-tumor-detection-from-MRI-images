{
 "cells": [
  {
   "cell_type": "code",
   "execution_count": 1,
   "metadata": {},
   "outputs": [
    {
     "name": "stderr",
     "output_type": "stream",
     "text": [
      "Using TensorFlow backend.\n"
     ]
    }
   ],
   "source": [
    "from keras.preprocessing.image import ImageDataGenerator"
   ]
  },
  {
   "cell_type": "code",
   "execution_count": 2,
   "metadata": {},
   "outputs": [],
   "source": [
    "train_datagen = ImageDataGenerator(rescale = 1./255,shear_range = 0.2,zoom_range = 0.2,horizontal_flip = True)\n",
    "test_datagen =ImageDataGenerator(rescale = 1)"
   ]
  },
  {
   "cell_type": "code",
   "execution_count": 3,
   "metadata": {},
   "outputs": [
    {
     "name": "stdout",
     "output_type": "stream",
     "text": [
      "Found 156 images belonging to 2 classes.\n",
      "Found 40 images belonging to 2 classes.\n"
     ]
    }
   ],
   "source": [
    "x_train = train_datagen.flow_from_directory(r'C:\\Users\\KEERTHI\\Desktop\\dataset\\dataset\\dataset\\train_set',target_size = (64,64),batch_size = 32, class_mode = 'categorical')\n",
    "x_test =  test_datagen.flow_from_directory(r'C:\\Users\\KEERTHI\\Desktop\\dataset\\dataset\\dataset\\test_set',target_size = (64,64),batch_size = 32, class_mode = 'categorical')"
   ]
  },
  {
   "cell_type": "code",
   "execution_count": 54,
   "metadata": {},
   "outputs": [],
   "source": [
    "from keras.models import Sequential\n",
    "from keras.layers import Dense\n",
    "from keras.layers import Conv2D\n",
    "from keras.layers import MaxPooling2D\n",
    "from keras.layers import Flatten"
   ]
  },
  {
   "cell_type": "code",
   "execution_count": 55,
   "metadata": {},
   "outputs": [],
   "source": [
    "model = Sequential()"
   ]
  },
  {
   "cell_type": "code",
   "execution_count": 56,
   "metadata": {},
   "outputs": [
    {
     "name": "stderr",
     "output_type": "stream",
     "text": [
      "C:\\Users\\KEERTHI\\.conda\\envs\\tensorflow\\lib\\site-packages\\ipykernel_launcher.py:2: UserWarning: Update your `Conv2D` call to the Keras 2 API: `Conv2D(32, (3, 3), input_shape=(64, 64, 3..., activation=\"relu\")`\n",
      "  \n"
     ]
    }
   ],
   "source": [
    "#Adding the Convolution Layer\n",
    "model.add(Conv2D(32,3,3,input_shape = (64,64,3),activation = 'relu'))"
   ]
  },
  {
   "cell_type": "code",
   "execution_count": 57,
   "metadata": {},
   "outputs": [],
   "source": [
    "#Adding MaxPooling Layer\n",
    "model.add(MaxPooling2D(pool_size = (2,2)))"
   ]
  },
  {
   "cell_type": "code",
   "execution_count": 58,
   "metadata": {},
   "outputs": [],
   "source": [
    "#Adding Flattening Layer\n",
    "model.add(Flatten())"
   ]
  },
  {
   "cell_type": "code",
   "execution_count": 59,
   "metadata": {},
   "outputs": [
    {
     "name": "stderr",
     "output_type": "stream",
     "text": [
      "C:\\Users\\KEERTHI\\.conda\\envs\\tensorflow\\lib\\site-packages\\ipykernel_launcher.py:2: UserWarning: Update your `Dense` call to the Keras 2 API: `Dense(activation=\"relu\", units=128, kernel_initializer=\"random_uniform\")`\n",
      "  \n"
     ]
    }
   ],
   "source": [
    "#Adding Hidden Layer\n",
    "model.add(Dense(output_dim = 128 ,activation = 'relu',init='random_uniform'))"
   ]
  },
  {
   "cell_type": "code",
   "execution_count": 60,
   "metadata": {},
   "outputs": [
    {
     "name": "stderr",
     "output_type": "stream",
     "text": [
      "C:\\Users\\KEERTHI\\.conda\\envs\\tensorflow\\lib\\site-packages\\ipykernel_launcher.py:2: UserWarning: Update your `Dense` call to the Keras 2 API: `Dense(activation=\"sigmoid\", units=2, kernel_initializer=\"random_uniform\")`\n",
      "  \n"
     ]
    }
   ],
   "source": [
    "#Adding Output Layer \n",
    "model.add(Dense(output_dim = 2,activation = 'sigmoid',init ='random_uniform'))"
   ]
  },
  {
   "cell_type": "code",
   "execution_count": 61,
   "metadata": {},
   "outputs": [
    {
     "name": "stdout",
     "output_type": "stream",
     "text": [
      "{'no': 0, 'yes': 1}\n"
     ]
    }
   ],
   "source": [
    "print(x_train.class_indices)"
   ]
  },
  {
   "cell_type": "code",
   "execution_count": 62,
   "metadata": {},
   "outputs": [],
   "source": [
    "#configuring\n",
    "\n",
    "model.compile(optimizer='adam',loss='categorical_crossentropy',metrics=['accuracy'])"
   ]
  },
  {
   "cell_type": "code",
   "execution_count": 63,
   "metadata": {},
   "outputs": [
    {
     "name": "stderr",
     "output_type": "stream",
     "text": [
      "C:\\Users\\KEERTHI\\.conda\\envs\\tensorflow\\lib\\site-packages\\ipykernel_launcher.py:3: UserWarning: The semantics of the Keras 2 argument `steps_per_epoch` is not the same as the Keras 1 argument `samples_per_epoch`. `steps_per_epoch` is the number of batches to draw from the generator at each epoch. Basically steps_per_epoch = samples_per_epoch/batch_size. Similarly `nb_val_samples`->`validation_steps` and `val_samples`->`steps` arguments have changed. Update your method calls accordingly.\n",
      "  This is separate from the ipykernel package so we can avoid doing imports until\n",
      "C:\\Users\\KEERTHI\\.conda\\envs\\tensorflow\\lib\\site-packages\\ipykernel_launcher.py:3: UserWarning: Update your `fit_generator` call to the Keras 2 API: `fit_generator(<keras.pre..., epochs=25, validation_data=<keras.pre..., steps_per_epoch=4, validation_steps=40)`\n",
      "  This is separate from the ipykernel package so we can avoid doing imports until\n"
     ]
    },
    {
     "name": "stdout",
     "output_type": "stream",
     "text": [
      "Epoch 1/25\n",
      "4/4 [==============================] - 6s 1s/step - loss: 0.7013 - accuracy: 0.5312 - val_loss: 2.1014 - val_accuracy: 0.7250\n",
      "Epoch 2/25\n",
      "4/4 [==============================] - 6s 1s/step - loss: 0.6449 - accuracy: 0.6583 - val_loss: 2.1880 - val_accuracy: 0.8250\n",
      "Epoch 3/25\n",
      "4/4 [==============================] - 6s 1s/step - loss: 0.5806 - accuracy: 0.7188 - val_loss: 0.2599 - val_accuracy: 0.7750\n",
      "Epoch 4/25\n",
      "4/4 [==============================] - 5s 1s/step - loss: 0.5239 - accuracy: 0.7419 - val_loss: 4.0295 - val_accuracy: 0.6750\n",
      "Epoch 5/25\n",
      "4/4 [==============================] - 5s 1s/step - loss: 0.6174 - accuracy: 0.6935 - val_loss: 4.1162 - val_accuracy: 0.7000\n",
      "Epoch 6/25\n",
      "4/4 [==============================] - 5s 1s/step - loss: 0.5792 - accuracy: 0.6935 - val_loss: 4.0295 - val_accuracy: 0.6750\n",
      "Epoch 7/25\n",
      "4/4 [==============================] - 6s 1s/step - loss: 0.5762 - accuracy: 0.7500 - val_loss: 2.2770 - val_accuracy: 0.7250\n",
      "Epoch 8/25\n",
      "4/4 [==============================] - 5s 1s/step - loss: 0.5853 - accuracy: 0.6667 - val_loss: 2.2747 - val_accuracy: 0.6750\n",
      "Epoch 9/25\n",
      "4/4 [==============================] - 6s 1s/step - loss: 0.5585 - accuracy: 0.7188 - val_loss: 1.1921e-07 - val_accuracy: 0.7500\n",
      "Epoch 10/25\n",
      "4/4 [==============================] - 5s 1s/step - loss: 0.5338 - accuracy: 0.7419 - val_loss: 4.2028 - val_accuracy: 0.8000\n",
      "Epoch 11/25\n",
      "4/4 [==============================] - 5s 1s/step - loss: 0.5180 - accuracy: 0.7581 - val_loss: 4.1162 - val_accuracy: 0.7000\n",
      "Epoch 12/25\n",
      "4/4 [==============================] - 6s 1s/step - loss: 0.5294 - accuracy: 0.7016 - val_loss: 0.0866 - val_accuracy: 0.8500\n",
      "Epoch 13/25\n",
      "4/4 [==============================] - 5s 1s/step - loss: 0.4837 - accuracy: 0.7656 - val_loss: 0.3466 - val_accuracy: 0.7000\n",
      "Epoch 14/25\n",
      "4/4 [==============================] - 5s 1s/step - loss: 0.5377 - accuracy: 0.7583 - val_loss: 3.8763 - val_accuracy: 0.8000\n",
      "Epoch 15/25\n",
      "4/4 [==============================] - 6s 1s/step - loss: 0.4956 - accuracy: 0.7891 - val_loss: 0.1870 - val_accuracy: 0.8250\n",
      "Epoch 16/25\n",
      "4/4 [==============================] - 5s 1s/step - loss: 0.5354 - accuracy: 0.7177 - val_loss: 2.0148 - val_accuracy: 0.8000\n",
      "Epoch 17/25\n",
      "4/4 [==============================] - 5s 1s/step - loss: 0.5374 - accuracy: 0.7016 - val_loss: 4.1274 - val_accuracy: 0.7500\n",
      "Epoch 18/25\n",
      "4/4 [==============================] - 6s 2s/step - loss: 0.4962 - accuracy: 0.7500 - val_loss: 0.2599 - val_accuracy: 0.7500\n",
      "Epoch 19/25\n",
      "4/4 [==============================] - 6s 1s/step - loss: 0.5524 - accuracy: 0.6935 - val_loss: 0.3466 - val_accuracy: 0.6250\n",
      "Epoch 20/25\n",
      "4/4 [==============================] - 5s 1s/step - loss: 0.4721 - accuracy: 0.8226 - val_loss: 2.1014 - val_accuracy: 0.8250\n",
      "Epoch 21/25\n",
      "4/4 [==============================] - 5s 1s/step - loss: 0.4591 - accuracy: 0.7661 - val_loss: 4.0295 - val_accuracy: 0.8000\n",
      "Epoch 22/25\n",
      "4/4 [==============================] - 6s 1s/step - loss: 0.4132 - accuracy: 0.8226 - val_loss: nan - val_accuracy: 0.6500\n",
      "Epoch 23/25\n",
      "4/4 [==============================] - 6s 1s/step - loss: 0.4762 - accuracy: 0.7344 - val_loss: nan - val_accuracy: 0.8250\n",
      "Epoch 24/25\n",
      "4/4 [==============================] - 5s 1s/step - loss: 0.4549 - accuracy: 0.8065 - val_loss: nan - val_accuracy: 0.6000\n",
      "Epoch 25/25\n",
      "4/4 [==============================] - 5s 1s/step - loss: 0.4339 - accuracy: 0.8306 - val_loss: nan - val_accuracy: 0.6250\n"
     ]
    },
    {
     "data": {
      "text/plain": [
       "<keras.callbacks.callbacks.History at 0x2279b8fb7c8>"
      ]
     },
     "execution_count": 63,
     "metadata": {},
     "output_type": "execute_result"
    }
   ],
   "source": [
    "\n",
    "\n",
    "#Train and test\n",
    "\n",
    "model.fit_generator(x_train,samples_per_epoch = 156,epochs=25,validation_data=x_test,nb_val_samples=40)\n"
   ]
  },
  {
   "cell_type": "code",
   "execution_count": 67,
   "metadata": {},
   "outputs": [],
   "source": [
    "#save\n",
    "\n",
    "model.save('mymodel.h5')"
   ]
  },
  {
   "cell_type": "code",
   "execution_count": 68,
   "metadata": {},
   "outputs": [],
   "source": [
    "from keras.models import load_model\n",
    "import numpy as np\n",
    "import cv2\n",
    "model = load_model('mymodel.h5')"
   ]
  },
  {
   "cell_type": "code",
   "execution_count": 69,
   "metadata": {},
   "outputs": [],
   "source": [
    "model.compile(optimizer='adam',loss='sparse_categorical_crossentropy',metrics=['accuracy'])"
   ]
  },
  {
   "cell_type": "code",
   "execution_count": 70,
   "metadata": {},
   "outputs": [],
   "source": [
    "from skimage.transform import resize\n",
    "def detect(frame):\n",
    "   try:\n",
    "      img=resize(frame,(64,64))\n",
    "      img=np.expand_dims(img,axis=0)\n",
    "      if(np.max(img)>1):\n",
    "          img=img/255.0\n",
    "      prediction = model.predict(img)\n",
    "      print(prediction)\n",
    "      prediction_class = model.predict_classes(img)\n",
    "      print(prediction_class)\n",
    "   except AttributeError:\n",
    "      print(\"not found\")"
   ]
  },
  {
   "cell_type": "code",
   "execution_count": 71,
   "metadata": {},
   "outputs": [
    {
     "name": "stdout",
     "output_type": "stream",
     "text": [
      "not found\n"
     ]
    }
   ],
   "source": [
    "frame =cv2.imread(\"a.jpg\")\n",
    "data = detect(frame)"
   ]
  },
  {
   "cell_type": "code",
   "execution_count": null,
   "metadata": {},
   "outputs": [],
   "source": []
  }
 ],
 "metadata": {
  "kernelspec": {
   "display_name": "Python 3",
   "language": "python",
   "name": "python3"
  },
  "language_info": {
   "codemirror_mode": {
    "name": "ipython",
    "version": 3
   },
   "file_extension": ".py",
   "mimetype": "text/x-python",
   "name": "python",
   "nbconvert_exporter": "python",
   "pygments_lexer": "ipython3",
   "version": "3.7.7"
  }
 },
 "nbformat": 4,
 "nbformat_minor": 4
}
